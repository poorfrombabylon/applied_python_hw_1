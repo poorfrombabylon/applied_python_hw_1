{
 "cells": [
  {
   "cell_type": "code",
   "execution_count": 53,
   "outputs": [
    {
     "name": "stdout",
     "output_type": "stream",
     "text": [
      "Requirement already satisfied: aiohttp in /opt/anaconda3/lib/python3.11/site-packages (3.9.3)\r\n",
      "Requirement already satisfied: aiosignal>=1.1.2 in /opt/anaconda3/lib/python3.11/site-packages (from aiohttp) (1.2.0)\r\n",
      "Requirement already satisfied: attrs>=17.3.0 in /opt/anaconda3/lib/python3.11/site-packages (from aiohttp) (23.1.0)\r\n",
      "Requirement already satisfied: frozenlist>=1.1.1 in /opt/anaconda3/lib/python3.11/site-packages (from aiohttp) (1.4.0)\r\n",
      "Requirement already satisfied: multidict<7.0,>=4.5 in /opt/anaconda3/lib/python3.11/site-packages (from aiohttp) (6.0.4)\r\n",
      "Requirement already satisfied: yarl<2.0,>=1.0 in /opt/anaconda3/lib/python3.11/site-packages (from aiohttp) (1.9.3)\r\n",
      "Requirement already satisfied: idna>=2.0 in /opt/anaconda3/lib/python3.11/site-packages (from yarl<2.0,>=1.0->aiohttp) (3.4)\r\n"
     ]
    }
   ],
   "source": [
    "!pip install aiohttp"
   ],
   "metadata": {
    "collapsed": false,
    "pycharm": {
     "name": "#%%\n"
    }
   }
  },
  {
   "cell_type": "code",
   "execution_count": 54,
   "metadata": {
    "collapsed": true,
    "pycharm": {
     "name": "#%%\n"
    }
   },
   "outputs": [],
   "source": [
    "import pandas as pd\n",
    "import os\n",
    "import requests\n",
    "import json\n",
    "from time import time\n",
    "import warnings\n",
    "from joblib import Parallel, delayed\n",
    "import aiohttp\n",
    "import asyncio\n",
    "\n",
    "warnings.filterwarnings(\"ignore\")"
   ]
  },
  {
   "cell_type": "code",
   "execution_count": 2,
   "outputs": [
    {
     "data": {
      "text/plain": "       city   timestamp  temperature  season\n0  New York  2010-01-01     4.650886  winter\n1  New York  2010-01-02     0.186908  winter\n2  New York  2010-01-03     5.513510  winter\n3  New York  2010-01-04     6.728524  winter\n4  New York  2010-01-05    -4.447639  winter",
      "text/html": "<div>\n<style scoped>\n    .dataframe tbody tr th:only-of-type {\n        vertical-align: middle;\n    }\n\n    .dataframe tbody tr th {\n        vertical-align: top;\n    }\n\n    .dataframe thead th {\n        text-align: right;\n    }\n</style>\n<table border=\"1\" class=\"dataframe\">\n  <thead>\n    <tr style=\"text-align: right;\">\n      <th></th>\n      <th>city</th>\n      <th>timestamp</th>\n      <th>temperature</th>\n      <th>season</th>\n    </tr>\n  </thead>\n  <tbody>\n    <tr>\n      <th>0</th>\n      <td>New York</td>\n      <td>2010-01-01</td>\n      <td>4.650886</td>\n      <td>winter</td>\n    </tr>\n    <tr>\n      <th>1</th>\n      <td>New York</td>\n      <td>2010-01-02</td>\n      <td>0.186908</td>\n      <td>winter</td>\n    </tr>\n    <tr>\n      <th>2</th>\n      <td>New York</td>\n      <td>2010-01-03</td>\n      <td>5.513510</td>\n      <td>winter</td>\n    </tr>\n    <tr>\n      <th>3</th>\n      <td>New York</td>\n      <td>2010-01-04</td>\n      <td>6.728524</td>\n      <td>winter</td>\n    </tr>\n    <tr>\n      <th>4</th>\n      <td>New York</td>\n      <td>2010-01-05</td>\n      <td>-4.447639</td>\n      <td>winter</td>\n    </tr>\n  </tbody>\n</table>\n</div>"
     },
     "execution_count": 2,
     "metadata": {},
     "output_type": "execute_result"
    }
   ],
   "source": [
    "df = pd.read_csv(\"/Users/almazkhayrullin/Desktop/appied_python/hw_1/data/Temperature Data.csv\")\n",
    "df.head()"
   ],
   "metadata": {
    "collapsed": false,
    "pycharm": {
     "name": "#%%\n"
    }
   }
  },
  {
   "cell_type": "code",
   "execution_count": 3,
   "outputs": [
    {
     "data": {
      "text/plain": "          city   timestamp  temperature  season\n0      Beijing  2010-01-01     2.061876  winter\n1      Beijing  2010-01-02   -15.773126  winter\n2      Beijing  2010-01-03    -4.436987  winter\n3      Beijing  2010-01-04   -11.834165  winter\n4      Beijing  2010-01-05    -3.632313  winter\n...        ...         ...          ...     ...\n54745    Tokyo  2019-12-25     6.145897  winter\n54746    Tokyo  2019-12-26    12.190132  winter\n54747    Tokyo  2019-12-27    15.187671  winter\n54748    Tokyo  2019-12-28     8.248416  winter\n54749    Tokyo  2019-12-29     3.075621  winter\n\n[54750 rows x 4 columns]",
      "text/html": "<div>\n<style scoped>\n    .dataframe tbody tr th:only-of-type {\n        vertical-align: middle;\n    }\n\n    .dataframe tbody tr th {\n        vertical-align: top;\n    }\n\n    .dataframe thead th {\n        text-align: right;\n    }\n</style>\n<table border=\"1\" class=\"dataframe\">\n  <thead>\n    <tr style=\"text-align: right;\">\n      <th></th>\n      <th>city</th>\n      <th>timestamp</th>\n      <th>temperature</th>\n      <th>season</th>\n    </tr>\n  </thead>\n  <tbody>\n    <tr>\n      <th>0</th>\n      <td>Beijing</td>\n      <td>2010-01-01</td>\n      <td>2.061876</td>\n      <td>winter</td>\n    </tr>\n    <tr>\n      <th>1</th>\n      <td>Beijing</td>\n      <td>2010-01-02</td>\n      <td>-15.773126</td>\n      <td>winter</td>\n    </tr>\n    <tr>\n      <th>2</th>\n      <td>Beijing</td>\n      <td>2010-01-03</td>\n      <td>-4.436987</td>\n      <td>winter</td>\n    </tr>\n    <tr>\n      <th>3</th>\n      <td>Beijing</td>\n      <td>2010-01-04</td>\n      <td>-11.834165</td>\n      <td>winter</td>\n    </tr>\n    <tr>\n      <th>4</th>\n      <td>Beijing</td>\n      <td>2010-01-05</td>\n      <td>-3.632313</td>\n      <td>winter</td>\n    </tr>\n    <tr>\n      <th>...</th>\n      <td>...</td>\n      <td>...</td>\n      <td>...</td>\n      <td>...</td>\n    </tr>\n    <tr>\n      <th>54745</th>\n      <td>Tokyo</td>\n      <td>2019-12-25</td>\n      <td>6.145897</td>\n      <td>winter</td>\n    </tr>\n    <tr>\n      <th>54746</th>\n      <td>Tokyo</td>\n      <td>2019-12-26</td>\n      <td>12.190132</td>\n      <td>winter</td>\n    </tr>\n    <tr>\n      <th>54747</th>\n      <td>Tokyo</td>\n      <td>2019-12-27</td>\n      <td>15.187671</td>\n      <td>winter</td>\n    </tr>\n    <tr>\n      <th>54748</th>\n      <td>Tokyo</td>\n      <td>2019-12-28</td>\n      <td>8.248416</td>\n      <td>winter</td>\n    </tr>\n    <tr>\n      <th>54749</th>\n      <td>Tokyo</td>\n      <td>2019-12-29</td>\n      <td>3.075621</td>\n      <td>winter</td>\n    </tr>\n  </tbody>\n</table>\n<p>54750 rows × 4 columns</p>\n</div>"
     },
     "execution_count": 3,
     "metadata": {},
     "output_type": "execute_result"
    }
   ],
   "source": [
    "df.sort_values(by=[\"city\", \"timestamp\"]).reset_index(drop=True)"
   ],
   "metadata": {
    "collapsed": false,
    "pycharm": {
     "name": "#%%\n"
    }
   }
  },
  {
   "cell_type": "markdown",
   "source": [
    "### Data Analysis"
   ],
   "metadata": {
    "collapsed": false,
    "pycharm": {
     "name": "#%% md\n"
    }
   }
  },
  {
   "cell_type": "code",
   "execution_count": 25,
   "outputs": [],
   "source": [
    "def process_data_city(data):\n",
    "    data[\"rolling_mean\"] = (data[\"temperature\"].rolling(window=30, min_periods=1).mean())\n",
    "\n",
    "    seasons = (data.groupby(\"season\")[\"temperature\"].agg([\"mean\", \"std\"]).reset_index())\n",
    "\n",
    "    result = data.merge(seasons, on=\"season\", how=\"left\")\n",
    "\n",
    "    result[\"min\"] = result[\"mean\"] - 2 * result[\"std\"]\n",
    "    result[\"max\"] = result[\"mean\"] + 2 * result[\"std\"]\n",
    "    result[\"not_ok\"] = ((result[\"temperature\"] < result[\"min\"]) | (\n",
    "            result[\"temperature\"] > result[\"max\"])).astype(int)\n",
    "\n",
    "    return result"
   ],
   "metadata": {
    "collapsed": false,
    "pycharm": {
     "name": "#%%\n"
    }
   }
  },
  {
   "cell_type": "code",
   "execution_count": 26,
   "outputs": [],
   "source": [
    "def data_analysis(data):\n",
    "    results = []\n",
    "    cities = data[\"city\"].unique()\n",
    "    for c in cities:\n",
    "        city_data = data[data[\"city\"] == c]\n",
    "        results.append(process_data_city(city_data))\n",
    "    return pd.concat(results)"
   ],
   "metadata": {
    "collapsed": false,
    "pycharm": {
     "name": "#%%\n"
    }
   }
  },
  {
   "cell_type": "code",
   "execution_count": 28,
   "outputs": [],
   "source": [
    "def parallel_data_analysis(df, n_jobs=-1):\n",
    "    cities = df[\"city\"].unique()\n",
    "    city_data = [df[df[\"city\"] == c] for c in cities]\n",
    "    results = Parallel(n_jobs=n_jobs)(\n",
    "        delayed(process_data_city)(city_data) for city_data in city_data\n",
    "    )\n",
    "    return pd.concat(results)"
   ],
   "metadata": {
    "collapsed": false,
    "pycharm": {
     "name": "#%%\n"
    }
   }
  },
  {
   "cell_type": "code",
   "execution_count": 57,
   "outputs": [
    {
     "data": {
      "text/plain": "             city   timestamp  temperature  season  rolling_mean       mean  \\\n0        New York  2010-01-01     4.650886  winter      4.650886  -0.042706   \n1        New York  2010-01-02     0.186908  winter      2.418897  -0.042706   \n2        New York  2010-01-03     5.513510  winter      3.450434  -0.042706   \n3        New York  2010-01-04     6.728524  winter      4.269957  -0.042706   \n4        New York  2010-01-05    -4.447639  winter      2.526438  -0.042706   \n...           ...         ...          ...     ...           ...        ...   \n3645  Mexico City  2019-12-25    12.828099  winter     13.634662  12.088848   \n3646  Mexico City  2019-12-26    10.343160  winter     13.381220  12.088848   \n3647  Mexico City  2019-12-27     9.403314  winter     13.579702  12.088848   \n3648  Mexico City  2019-12-28    30.645927  winter     13.942159  12.088848   \n3649  Mexico City  2019-12-29    15.854582  winter     13.985365  12.088848   \n\n           std        min        max  not_ok  \n0     5.003571 -10.049848   9.964436       0  \n1     5.003571 -10.049848   9.964436       0  \n2     5.003571 -10.049848   9.964436       0  \n3     5.003571 -10.049848   9.964436       0  \n4     5.003571 -10.049848   9.964436       0  \n...        ...        ...        ...     ...  \n3645  4.922788   2.243272  21.934423       0  \n3646  4.922788   2.243272  21.934423       0  \n3647  4.922788   2.243272  21.934423       0  \n3648  4.922788   2.243272  21.934423       1  \n3649  4.922788   2.243272  21.934423       0  \n\n[54750 rows x 10 columns]",
      "text/html": "<div>\n<style scoped>\n    .dataframe tbody tr th:only-of-type {\n        vertical-align: middle;\n    }\n\n    .dataframe tbody tr th {\n        vertical-align: top;\n    }\n\n    .dataframe thead th {\n        text-align: right;\n    }\n</style>\n<table border=\"1\" class=\"dataframe\">\n  <thead>\n    <tr style=\"text-align: right;\">\n      <th></th>\n      <th>city</th>\n      <th>timestamp</th>\n      <th>temperature</th>\n      <th>season</th>\n      <th>rolling_mean</th>\n      <th>mean</th>\n      <th>std</th>\n      <th>min</th>\n      <th>max</th>\n      <th>not_ok</th>\n    </tr>\n  </thead>\n  <tbody>\n    <tr>\n      <th>0</th>\n      <td>New York</td>\n      <td>2010-01-01</td>\n      <td>4.650886</td>\n      <td>winter</td>\n      <td>4.650886</td>\n      <td>-0.042706</td>\n      <td>5.003571</td>\n      <td>-10.049848</td>\n      <td>9.964436</td>\n      <td>0</td>\n    </tr>\n    <tr>\n      <th>1</th>\n      <td>New York</td>\n      <td>2010-01-02</td>\n      <td>0.186908</td>\n      <td>winter</td>\n      <td>2.418897</td>\n      <td>-0.042706</td>\n      <td>5.003571</td>\n      <td>-10.049848</td>\n      <td>9.964436</td>\n      <td>0</td>\n    </tr>\n    <tr>\n      <th>2</th>\n      <td>New York</td>\n      <td>2010-01-03</td>\n      <td>5.513510</td>\n      <td>winter</td>\n      <td>3.450434</td>\n      <td>-0.042706</td>\n      <td>5.003571</td>\n      <td>-10.049848</td>\n      <td>9.964436</td>\n      <td>0</td>\n    </tr>\n    <tr>\n      <th>3</th>\n      <td>New York</td>\n      <td>2010-01-04</td>\n      <td>6.728524</td>\n      <td>winter</td>\n      <td>4.269957</td>\n      <td>-0.042706</td>\n      <td>5.003571</td>\n      <td>-10.049848</td>\n      <td>9.964436</td>\n      <td>0</td>\n    </tr>\n    <tr>\n      <th>4</th>\n      <td>New York</td>\n      <td>2010-01-05</td>\n      <td>-4.447639</td>\n      <td>winter</td>\n      <td>2.526438</td>\n      <td>-0.042706</td>\n      <td>5.003571</td>\n      <td>-10.049848</td>\n      <td>9.964436</td>\n      <td>0</td>\n    </tr>\n    <tr>\n      <th>...</th>\n      <td>...</td>\n      <td>...</td>\n      <td>...</td>\n      <td>...</td>\n      <td>...</td>\n      <td>...</td>\n      <td>...</td>\n      <td>...</td>\n      <td>...</td>\n      <td>...</td>\n    </tr>\n    <tr>\n      <th>3645</th>\n      <td>Mexico City</td>\n      <td>2019-12-25</td>\n      <td>12.828099</td>\n      <td>winter</td>\n      <td>13.634662</td>\n      <td>12.088848</td>\n      <td>4.922788</td>\n      <td>2.243272</td>\n      <td>21.934423</td>\n      <td>0</td>\n    </tr>\n    <tr>\n      <th>3646</th>\n      <td>Mexico City</td>\n      <td>2019-12-26</td>\n      <td>10.343160</td>\n      <td>winter</td>\n      <td>13.381220</td>\n      <td>12.088848</td>\n      <td>4.922788</td>\n      <td>2.243272</td>\n      <td>21.934423</td>\n      <td>0</td>\n    </tr>\n    <tr>\n      <th>3647</th>\n      <td>Mexico City</td>\n      <td>2019-12-27</td>\n      <td>9.403314</td>\n      <td>winter</td>\n      <td>13.579702</td>\n      <td>12.088848</td>\n      <td>4.922788</td>\n      <td>2.243272</td>\n      <td>21.934423</td>\n      <td>0</td>\n    </tr>\n    <tr>\n      <th>3648</th>\n      <td>Mexico City</td>\n      <td>2019-12-28</td>\n      <td>30.645927</td>\n      <td>winter</td>\n      <td>13.942159</td>\n      <td>12.088848</td>\n      <td>4.922788</td>\n      <td>2.243272</td>\n      <td>21.934423</td>\n      <td>1</td>\n    </tr>\n    <tr>\n      <th>3649</th>\n      <td>Mexico City</td>\n      <td>2019-12-29</td>\n      <td>15.854582</td>\n      <td>winter</td>\n      <td>13.985365</td>\n      <td>12.088848</td>\n      <td>4.922788</td>\n      <td>2.243272</td>\n      <td>21.934423</td>\n      <td>0</td>\n    </tr>\n  </tbody>\n</table>\n<p>54750 rows × 10 columns</p>\n</div>"
     },
     "execution_count": 57,
     "metadata": {},
     "output_type": "execute_result"
    }
   ],
   "source": [
    "kek = data_analysis(df)\n",
    "kek"
   ],
   "metadata": {
    "collapsed": false,
    "pycharm": {
     "name": "#%%\n"
    }
   }
  },
  {
   "cell_type": "code",
   "execution_count": 18,
   "outputs": [
    {
     "name": "stdout",
     "output_type": "stream",
     "text": [
      "51.3 ms ± 904 µs per loop (mean ± std. dev. of 7 runs, 10 loops each)\n"
     ]
    }
   ],
   "source": [
    "%%timeit\n",
    "# let's see what way is faster\n",
    "\n",
    "data_analysis(df)"
   ],
   "metadata": {
    "collapsed": false,
    "pycharm": {
     "name": "#%%\n"
    }
   }
  },
  {
   "cell_type": "code",
   "execution_count": 23,
   "outputs": [
    {
     "name": "stdout",
     "output_type": "stream",
     "text": [
      "57.4 ms ± 4.48 ms per loop (mean ± std. dev. of 7 runs, 10 loops each)\n"
     ]
    }
   ],
   "source": [
    "%%timeit\n",
    "# let's see what way is faster\n",
    "\n",
    "parallel_data_analysis(df)"
   ],
   "metadata": {
    "collapsed": false,
    "pycharm": {
     "name": "#%%\n"
    }
   }
  },
  {
   "cell_type": "markdown",
   "source": [
    "Последовательное выполнение чуть-чуть быстрее, скорее всего из-за того, что параллельное выполнение еще тратит время на всякие системные штуки"
   ],
   "metadata": {
    "collapsed": false,
    "pycharm": {
     "name": "#%% md\n"
    }
   }
  },
  {
   "cell_type": "markdown",
   "source": [
    "### Посмотрим на апишку"
   ],
   "metadata": {
    "collapsed": false,
    "pycharm": {
     "name": "#%% md\n"
    }
   }
  },
  {
   "cell_type": "code",
   "execution_count": 34,
   "outputs": [],
   "source": [
    "API_KEY = \"dac0a38de8a84f0c2aa0fc93000d86eb\"\n",
    "URL_TEMPLATE = \"https://api.openweathermap.org/data/2.5/weather?q={city}&units=metric&appid={API_KEY}\""
   ],
   "metadata": {
    "collapsed": false,
    "pycharm": {
     "name": "#%%\n"
    }
   }
  },
  {
   "cell_type": "code",
   "execution_count": 43,
   "outputs": [],
   "source": [
    "def get_current_weather(city):\n",
    "    resp = requests.get(URL_TEMPLATE.format(\n",
    "        city=city,\n",
    "        API_KEY=API_KEY\n",
    "    ))\n",
    "\n",
    "    return json.loads(resp.text)"
   ],
   "metadata": {
    "collapsed": false,
    "pycharm": {
     "name": "#%%\n"
    }
   }
  },
  {
   "cell_type": "code",
   "execution_count": 44,
   "outputs": [
    {
     "data": {
      "text/plain": "{'coord': {'lon': 74.4791, 'lat': 62.2654},\n 'weather': [{'id': 600,\n   'main': 'Snow',\n   'description': 'light snow',\n   'icon': '13n'}],\n 'base': 'stations',\n 'main': {'temp': -10.37,\n  'feels_like': -17.37,\n  'temp_min': -10.37,\n  'temp_max': -10.37,\n  'pressure': 1023,\n  'humidity': 93,\n  'sea_level': 1023,\n  'grnd_level': 1014},\n 'visibility': 243,\n 'wind': {'speed': 9.54, 'deg': 186, 'gust': 15.31},\n 'snow': {'1h': 0.13},\n 'clouds': {'all': 100},\n 'dt': 1734885242,\n 'sys': {'country': 'RU', 'sunrise': 1734841780, 'sunset': 1734859902},\n 'timezone': 18000,\n 'id': 6695754,\n 'name': 'Kogalym',\n 'cod': 200}"
     },
     "execution_count": 44,
     "metadata": {},
     "output_type": "execute_result"
    }
   ],
   "source": [
    "get_current_weather(city=\"Kogalym\")"
   ],
   "metadata": {
    "collapsed": false,
    "pycharm": {
     "name": "#%%\n"
    }
   }
  },
  {
   "cell_type": "code",
   "execution_count": 45,
   "outputs": [],
   "source": [
    "def is_weather_anomaly(city, df=None):\n",
    "\n",
    "    resp = requests.get(URL_TEMPLATE.format(\n",
    "        city=city,\n",
    "        API_KEY=API_KEY\n",
    "    ))\n",
    "\n",
    "    curr_temp = json.loads(resp.text)[\"main\"][\"temp\"]\n",
    "\n",
    "    normal_mean, normal_std = df.loc[\n",
    "            (df.city == city) & (df.season == \"winter\"), [\"mean\", \"std\"]\n",
    "        ].values[0]\n",
    "\n",
    "    lower_bound = normal_mean - 2 * normal_std\n",
    "    upper_bound = normal_mean + 2 * normal_std\n",
    "\n",
    "    is_anomaly = True if curr_temp > upper_bound or curr_temp < lower_bound else False\n",
    "\n",
    "    return is_anomaly"
   ],
   "metadata": {
    "collapsed": false,
    "pycharm": {
     "name": "#%%\n"
    }
   }
  },
  {
   "cell_type": "code",
   "execution_count": 49,
   "outputs": [
    {
     "data": {
      "text/plain": "False"
     },
     "execution_count": 49,
     "metadata": {},
     "output_type": "execute_result"
    }
   ],
   "source": [
    "is_weather_anomaly(\"New York\", kek)"
   ],
   "metadata": {
    "collapsed": false,
    "pycharm": {
     "name": "#%%\n"
    }
   }
  },
  {
   "cell_type": "code",
   "execution_count": 52,
   "outputs": [
    {
     "name": "stdout",
     "output_type": "stream",
     "text": [
      "Synchronious time: 10.65 sec.\n"
     ]
    }
   ],
   "source": [
    "def get_weather_synch(city):\n",
    "    resp = requests.get(URL_TEMPLATE.format(\n",
    "        city=city,\n",
    "        API_KEY=API_KEY\n",
    "    ))\n",
    "    return json.loads(resp.text)\n",
    "\n",
    "start = time()\n",
    "for city in df.city.unique():\n",
    "    get_weather_synch(city)\n",
    "end = time()\n",
    "print(f\"Synchronious time: {end - start:.2f} sec.\")"
   ],
   "metadata": {
    "collapsed": false,
    "pycharm": {
     "name": "#%%\n"
    }
   }
  },
  {
   "cell_type": "code",
   "execution_count": 56,
   "outputs": [
    {
     "name": "stdout",
     "output_type": "stream",
     "text": [
      "Asynchronious time: 0.47 sec.\n"
     ]
    }
   ],
   "source": [
    "async def get_weather_asynch(city):\n",
    "    url = URL_TEMPLATE.format(\n",
    "        city=city,\n",
    "        API_KEY=API_KEY\n",
    "    )\n",
    "    async with aiohttp.ClientSession() as session:\n",
    "        async with session.get(url) as response:\n",
    "                content = await response.text()\n",
    "                return json.loads(content)\n",
    "\n",
    "start = time()\n",
    "await asyncio.gather(*[get_weather_asynch(city) for city in df.city.unique()])\n",
    "end = time()\n",
    "print(f\"Asynchronious time: {end - start:.2f} sec.\")"
   ],
   "metadata": {
    "collapsed": false,
    "pycharm": {
     "name": "#%%\n"
    }
   }
  }
 ],
 "metadata": {
  "kernelspec": {
   "display_name": "Python 3",
   "language": "python",
   "name": "python3"
  },
  "language_info": {
   "codemirror_mode": {
    "name": "ipython",
    "version": 2
   },
   "file_extension": ".py",
   "mimetype": "text/x-python",
   "name": "python",
   "nbconvert_exporter": "python",
   "pygments_lexer": "ipython2",
   "version": "2.7.6"
  }
 },
 "nbformat": 4,
 "nbformat_minor": 0
}